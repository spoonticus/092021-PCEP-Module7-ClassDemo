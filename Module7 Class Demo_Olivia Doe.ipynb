{
 "cells": [
  {
   "cell_type": "markdown",
   "metadata": {},
   "source": [
    "### List\n",
    "1. Use numbers to index into a list, meaning you can use numbers to find out what’s in lists. \n",
    "2. List uses square brackets. "
   ]
  },
  {
   "cell_type": "code",
   "execution_count": 5,
   "metadata": {},
   "outputs": [],
   "source": [
    "clothes = ['shirts', 'jacket', 'pants', 'shorts']\n",
    "scores = [99, 86, 79, 91, 88]"
   ]
  },
  {
   "cell_type": "code",
   "execution_count": 6,
   "metadata": {},
   "outputs": [
    {
     "name": "stdout",
     "output_type": "stream",
     "text": [
      "['shirts', 'jacket', 'pants', 'shorts']\n"
     ]
    }
   ],
   "source": [
    "print(clothes)"
   ]
  },
  {
   "cell_type": "code",
   "execution_count": 2,
   "metadata": {},
   "outputs": [
    {
     "name": "stdout",
     "output_type": "stream",
     "text": [
      "['George Washington', 1789, 1797]\n"
     ]
    }
   ],
   "source": [
    "president1 = [\"George Washington\", 1789, 1797]\n",
    "print(president1)"
   ]
  },
  {
   "cell_type": "code",
   "execution_count": 3,
   "metadata": {},
   "outputs": [
    {
     "name": "stdout",
     "output_type": "stream",
     "text": [
      "[['George Washington', 1789, 1797], ['John Adams', 1797, 1801], ['Thomas Jefferson', 1801, 1809]]\n"
     ]
    }
   ],
   "source": [
    "president2 = [\"John Adams\", 1797, 1801]\n",
    "president3 = [\"Thomas Jefferson\", 1801, 1809]\n",
    "\n",
    "presidents = [president1, president2, president3]\n",
    "print(presidents)"
   ]
  },
  {
   "cell_type": "code",
   "execution_count": 7,
   "metadata": {},
   "outputs": [
    {
     "name": "stdout",
     "output_type": "stream",
     "text": [
      "['shirts', 'jacket', 'pants', 'shorts']\n",
      "shirts\n"
     ]
    }
   ],
   "source": [
    "# indexing\n",
    "\n",
    "print(clothes)\n",
    "cloth = clothes[0]\n",
    "print(cloth)"
   ]
  },
  {
   "cell_type": "code",
   "execution_count": 8,
   "metadata": {},
   "outputs": [
    {
     "data": {
      "text/plain": [
       "4"
      ]
     },
     "execution_count": 8,
     "metadata": {},
     "output_type": "execute_result"
    }
   ],
   "source": [
    "len(clothes)"
   ]
  },
  {
   "cell_type": "code",
   "execution_count": 9,
   "metadata": {},
   "outputs": [
    {
     "ename": "IndexError",
     "evalue": "list index out of range",
     "output_type": "error",
     "traceback": [
      "\u001b[1;31m---------------------------------------------------------------------------\u001b[0m",
      "\u001b[1;31mIndexError\u001b[0m                                Traceback (most recent call last)",
      "\u001b[1;32m<ipython-input-9-ef66de72c7b4>\u001b[0m in \u001b[0;36m<module>\u001b[1;34m\u001b[0m\n\u001b[1;32m----> 1\u001b[1;33m \u001b[0mclothes\u001b[0m\u001b[1;33m[\u001b[0m\u001b[1;36m4\u001b[0m\u001b[1;33m]\u001b[0m\u001b[1;33m\u001b[0m\u001b[1;33m\u001b[0m\u001b[0m\n\u001b[0m",
      "\u001b[1;31mIndexError\u001b[0m: list index out of range"
     ]
    }
   ],
   "source": [
    "clothes[4]"
   ]
  },
  {
   "cell_type": "code",
   "execution_count": 10,
   "metadata": {},
   "outputs": [
    {
     "name": "stdout",
     "output_type": "stream",
     "text": [
      "['shirts', 'jacket', 'pants', 'shorts']\n",
      "['shirts', 'jacket', 'pants', 'coat']\n"
     ]
    }
   ],
   "source": [
    "print(clothes)\n",
    "clothes[3] = \"coat\"\n",
    "print(clothes)"
   ]
  },
  {
   "cell_type": "code",
   "execution_count": 12,
   "metadata": {},
   "outputs": [
    {
     "name": "stdout",
     "output_type": "stream",
     "text": [
      "['shirts', 'jacket', 'pants', ['president1', 'abc']]\n",
      "['president1', 'abc']\n",
      "['shirts', 'jacket', 'pants', ['president1', 'abc']]\n"
     ]
    }
   ],
   "source": [
    "print(clothes)\n",
    "clothes[3] = [\"president1\", \"abc\"]\n",
    "print(clothes[3])\n",
    "print(clothes)"
   ]
  },
  {
   "cell_type": "code",
   "execution_count": 13,
   "metadata": {},
   "outputs": [
    {
     "name": "stdout",
     "output_type": "stream",
     "text": [
      "['president1', 'abc']\n",
      "abc\n",
      "abc\n"
     ]
    }
   ],
   "source": [
    "print(clothes[3])\n",
    "a = clothes[3]\n",
    "print(a[1])\n",
    "print(clothes[3][1])"
   ]
  },
  {
   "cell_type": "code",
   "execution_count": 16,
   "metadata": {},
   "outputs": [
    {
     "name": "stdout",
     "output_type": "stream",
     "text": [
      "[99, 86, 79, 91, 88]\n",
      "[86, 79]\n"
     ]
    }
   ],
   "source": [
    "# slicing\n",
    "\n",
    "print(scores)\n",
    "new_scores = scores[1 : 3]\n",
    "print(new_scores)"
   ]
  },
  {
   "cell_type": "code",
   "execution_count": 17,
   "metadata": {},
   "outputs": [
    {
     "name": "stdout",
     "output_type": "stream",
     "text": [
      "[['George Washington', 1789, 1797], ['John Adams', 1797, 1801], ['Thomas Jefferson', 1801, 1809]]\n",
      "['John Adams', 1797, 1801]\n"
     ]
    }
   ],
   "source": [
    "print(presidents)\n",
    "person = presidents[1]\n",
    "print(person)"
   ]
  },
  {
   "cell_type": "code",
   "execution_count": 18,
   "metadata": {},
   "outputs": [
    {
     "name": "stdout",
     "output_type": "stream",
     "text": [
      "John Adams\n",
      "John Adams\n"
     ]
    }
   ],
   "source": [
    "print(person[0])\n",
    "print(presidents[1][0])"
   ]
  },
  {
   "cell_type": "code",
   "execution_count": 19,
   "metadata": {},
   "outputs": [
    {
     "name": "stdout",
     "output_type": "stream",
     "text": [
      "['George Washington', 1789, 1797]\n"
     ]
    }
   ],
   "source": [
    "print(presidents[0:2][0])   # why?"
   ]
  },
  {
   "cell_type": "code",
   "execution_count": 23,
   "metadata": {},
   "outputs": [
    {
     "name": "stdout",
     "output_type": "stream",
     "text": [
      "[['George Washington', 1789, 1797], ['John Adams', 1797, 1801]]\n",
      "[['George Washington', 1789, 1797]]\n"
     ]
    }
   ],
   "source": [
    "print(presidents[0:2])\n",
    "print(presidents[0:1])"
   ]
  },
  {
   "cell_type": "code",
   "execution_count": 26,
   "metadata": {},
   "outputs": [
    {
     "name": "stdout",
     "output_type": "stream",
     "text": [
      "1\n",
      "81\n"
     ]
    }
   ],
   "source": [
    "# remember, indexing returns an item\n",
    "\n",
    "# squares = [1, 4, 9, 16, 25, 36, 49, 64, 81, 100]\n",
    "squares = [1, 4, 9, 16, 25, 36, 49, 64, 81]\n",
    "print(squares[0])\n",
    "print(squares[-1])"
   ]
  },
  {
   "cell_type": "code",
   "execution_count": 27,
   "metadata": {},
   "outputs": [
    {
     "name": "stdout",
     "output_type": "stream",
     "text": [
      "[49, 64, 81]\n"
     ]
    }
   ],
   "source": [
    "# slicing returns a new list\n",
    "# returns a list starting at index -3 to last element of list\n",
    "print(squares[-3:])\n",
    "\n"
   ]
  },
  {
   "cell_type": "code",
   "execution_count": 29,
   "metadata": {},
   "outputs": [
    {
     "name": "stdout",
     "output_type": "stream",
     "text": [
      "[64, 81]\n"
     ]
    }
   ],
   "source": [
    "# returns a list starting at index 7 to the last element of list\n",
    "print(squares[7:])"
   ]
  },
  {
   "cell_type": "code",
   "execution_count": 30,
   "metadata": {},
   "outputs": [
    {
     "name": "stdout",
     "output_type": "stream",
     "text": [
      "[1, 4, 9, 16, 25, 36]\n"
     ]
    }
   ],
   "source": [
    "# returns a list from index 0 to end index (non inclusive)\n",
    "print(squares[:-3])"
   ]
  },
  {
   "cell_type": "code",
   "execution_count": 33,
   "metadata": {},
   "outputs": [
    {
     "name": "stdout",
     "output_type": "stream",
     "text": [
      "[1, 4, 9, 16, 25, 36, 49, 64, 81]\n",
      "[81, 64, 49, 36, 25, 16, 9, 4, 1]\n"
     ]
    }
   ],
   "source": [
    "# remember, slicing - [start(inclusive) : end (exclusive) : step (default is 1)]\n",
    "# squares = [1, 4, 9, 16, 25, 36, 49, 64, 81]\n",
    "\n",
    "print(squares[:: 1])\n",
    "\n",
    "# returns a list from index 0 to the last element but backward by 1\n",
    "print(squares[:: -1])"
   ]
  },
  {
   "cell_type": "code",
   "execution_count": 34,
   "metadata": {},
   "outputs": [
    {
     "name": "stdout",
     "output_type": "stream",
     "text": [
      "[1, 16, 49]\n"
     ]
    }
   ],
   "source": [
    "# returns a list from index 0 to the last element but every 3 elements\n",
    "print(squares[:: 3])"
   ]
  },
  {
   "cell_type": "code",
   "execution_count": 35,
   "metadata": {},
   "outputs": [
    {
     "name": "stdout",
     "output_type": "stream",
     "text": [
      "[1, 4, 9, 16, 25, 36, 49, 64, 81]\n",
      "[9, 16, 25, 36, 49]\n",
      "[9, 25, 49]\n"
     ]
    }
   ],
   "source": [
    "\n",
    "print(squares)\n",
    "\n",
    "# returns a list from index 2 to index 6\n",
    "print(squares[2:7])\n",
    "# returns a list from index 2 to index 6 every 2 elements\n",
    "print(squares[2:7:2])"
   ]
  },
  {
   "cell_type": "code",
   "execution_count": 37,
   "metadata": {},
   "outputs": [
    {
     "name": "stdout",
     "output_type": "stream",
     "text": [
      "[1, 4, 9, 16, 25, 36, 49, 64, 81]\n",
      "[81, 64, 49, 36, 25, 16, 9, 4, 1]\n",
      "[81, 64, 49, 36, 25, 16]\n"
     ]
    }
   ],
   "source": [
    "print(squares)             # original list\n",
    "print(squares[::-1])       # reversed order\n",
    "\n",
    "# return a list from index 0 to index 1, but in reverse \n",
    "print(squares[:2:-1])      # squares[2] == 9, not inclusive\n",
    "                           # squares[8], [7], ... [4], [3] "
   ]
  },
  {
   "cell_type": "code",
   "execution_count": 43,
   "metadata": {},
   "outputs": [
    {
     "name": "stdout",
     "output_type": "stream",
     "text": [
      "[1, 4, 9, 16, 25, 36, 49, 64, 81]\n",
      "[81, 49, 25, 9, 1]\n",
      "[81, 49, 25]\n"
     ]
    }
   ],
   "source": [
    "print(squares)             # original list\n",
    "print(squares[::-2])       # reversed order, every other item\n",
    "print(squares[:2:-2])      # squares[2] == 9, not inclusive\n",
    "                           # squares[8], squares[6], squares[4]"
   ]
  },
  {
   "cell_type": "code",
   "execution_count": 42,
   "metadata": {},
   "outputs": [
    {
     "name": "stdout",
     "output_type": "stream",
     "text": [
      "[10, 9, 12, 'c', 'b', 'a']\n",
      "[10, 9, 12]\n",
      "c\n"
     ]
    }
   ],
   "source": [
    "temp = ['a', 'b', 'c', 12, 9, 10]\n",
    "print(temp[:: -1])\n",
    "print(temp[:2:-1])\n",
    "print(temp[2])"
   ]
  },
  {
   "cell_type": "code",
   "execution_count": 44,
   "metadata": {},
   "outputs": [],
   "source": [
    "# initialize list\n",
    "shopping = []\n",
    "scores = [0] *10\n",
    "names = [\"\"] *5\n",
    "chars = \"\" *5"
   ]
  },
  {
   "cell_type": "code",
   "execution_count": 45,
   "metadata": {},
   "outputs": [
    {
     "name": "stdout",
     "output_type": "stream",
     "text": [
      "[] has a length of 0\n",
      "[0, 0, 0, 0, 0, 0, 0, 0, 0, 0] has a length of 10\n",
      "['', '', '', '', ''] has a length of 5\n",
      ">>><<< has a length of 0\n"
     ]
    }
   ],
   "source": [
    "print(f\"{shopping} has a length of {len(shopping)}\")\n",
    "print(f\"{scores} has a length of {len(scores)}\")\n",
    "print(f\"{names} has a length of {len(names)}\")\n",
    "print(f\">>>{chars}<<< has a length of {len(chars)}\")"
   ]
  },
  {
   "cell_type": "code",
   "execution_count": 51,
   "metadata": {},
   "outputs": [
    {
     "name": "stdout",
     "output_type": "stream",
     "text": [
      "['George', 'Washington,', '1789,', '1797']\n",
      "['George Washington', '1789', '1797']\n"
     ]
    }
   ],
   "source": [
    "person = \"George Washington, 1789, 1797\"\n",
    "person_list = person.split()\n",
    "print(person_list)\n",
    "print(person.split(\", \"))"
   ]
  },
  {
   "cell_type": "code",
   "execution_count": 47,
   "metadata": {},
   "outputs": [
    {
     "data": {
      "text/plain": [
       "['George Washington, 1', '89, 1', '9', '']"
      ]
     },
     "execution_count": 47,
     "metadata": {},
     "output_type": "execute_result"
    }
   ],
   "source": [
    "person.split(\"7\")"
   ]
  },
  {
   "cell_type": "code",
   "execution_count": 49,
   "metadata": {},
   "outputs": [
    {
     "data": {
      "text/plain": [
       "['George Washington, 1', '89, 1', '9', '3']"
      ]
     },
     "execution_count": 49,
     "metadata": {},
     "output_type": "execute_result"
    }
   ],
   "source": [
    "\"George Washington, 1789, 17973\".split(\"7\")"
   ]
  },
  {
   "cell_type": "code",
   "execution_count": 54,
   "metadata": {},
   "outputs": [
    {
     "data": {
      "text/plain": [
       "['George Washington', '1789', '1797']"
      ]
     },
     "execution_count": 54,
     "metadata": {},
     "output_type": "execute_result"
    }
   ],
   "source": [
    "person.split(\", \", 2)"
   ]
  },
  {
   "cell_type": "code",
   "execution_count": 55,
   "metadata": {},
   "outputs": [
    {
     "data": {
      "text/plain": [
       "['George Washington', '1789, 1797']"
      ]
     },
     "execution_count": 55,
     "metadata": {},
     "output_type": "execute_result"
    }
   ],
   "source": [
    "person.split(\", \", 1)"
   ]
  },
  {
   "cell_type": "code",
   "execution_count": 56,
   "metadata": {},
   "outputs": [
    {
     "data": {
      "text/plain": [
       "'George Washington'"
      ]
     },
     "execution_count": 56,
     "metadata": {},
     "output_type": "execute_result"
    }
   ],
   "source": [
    "person.split(\",\", 1)[0]"
   ]
  },
  {
   "cell_type": "code",
   "execution_count": 57,
   "metadata": {},
   "outputs": [
    {
     "data": {
      "text/plain": [
       "' 1789, 1797'"
      ]
     },
     "execution_count": 57,
     "metadata": {},
     "output_type": "execute_result"
    }
   ],
   "source": [
    "person.split(\",\", 1)[1]"
   ]
  },
  {
   "cell_type": "code",
   "execution_count": 58,
   "metadata": {},
   "outputs": [
    {
     "name": "stdout",
     "output_type": "stream",
     "text": [
      "[\"I'm\", 'just', 'a', 'simple', 'man', 'trying', 'to', 'make', 'my', 'way', 'in', 'the', 'universe.']\n"
     ]
    }
   ],
   "source": [
    "msg = \"I'm just a simple man trying to make my way in the universe.\"\n",
    "msg_list = msg.split()\n",
    "print(msg_list)"
   ]
  },
  {
   "cell_type": "code",
   "execution_count": 59,
   "metadata": {},
   "outputs": [
    {
     "name": "stdout",
     "output_type": "stream",
     "text": [
      "[\"I'\", ' just a si', 'ple ', 'an trying to ', 'ake ', 'y way in the universe.']\n"
     ]
    }
   ],
   "source": [
    "msg = \"I'm just a simple man trying to make my way in the universe.\"\n",
    "msg_list = msg.split('m')\n",
    "print(msg_list)"
   ]
  },
  {
   "cell_type": "code",
   "execution_count": 60,
   "metadata": {},
   "outputs": [
    {
     "data": {
      "text/plain": [
       "6"
      ]
     },
     "execution_count": 60,
     "metadata": {},
     "output_type": "execute_result"
    }
   ],
   "source": [
    "len(msg_list)"
   ]
  },
  {
   "cell_type": "code",
   "execution_count": 61,
   "metadata": {},
   "outputs": [
    {
     "name": "stdout",
     "output_type": "stream",
     "text": [
      "[\"I'm\", 'just', 'a', 'simple man trying to make my way in the universe.']\n",
      "4\n",
      "I'm\n",
      "just\n",
      "a\n",
      "simple man trying to make my way in the universe.\n",
      "\n",
      "['just', 'a']\n"
     ]
    }
   ],
   "source": [
    "msg = \"I'm just a simple man trying to make my way in the universe.\"\n",
    "msg_list = msg.split(' ', 3)\n",
    "print(msg_list)\n",
    "print(len(msg_list))\n",
    "print(msg_list[0])\n",
    "print(msg_list[1])\n",
    "print(msg_list[2])\n",
    "print(msg_list[3])\n",
    "print()\n",
    "\n",
    "print(msg.split(' ',3)[1:3])"
   ]
  },
  {
   "cell_type": "markdown",
   "metadata": {},
   "source": [
    "### Exercise 1\n",
    "Find the fourth word in a phrase, \"Python is a great first language\". \n",
    "First, split \"Python is a great first language\" into a list and then display the fourth word."
   ]
  },
  {
   "cell_type": "code",
   "execution_count": 62,
   "metadata": {},
   "outputs": [
    {
     "name": "stdout",
     "output_type": "stream",
     "text": [
      "great\n"
     ]
    }
   ],
   "source": [
    "word_list = \"Python is a great first language.\".split()\n",
    "print(word_list[3])"
   ]
  },
  {
   "cell_type": "markdown",
   "metadata": {},
   "source": [
    "### List Methods \n",
    "add item to a list"
   ]
  },
  {
   "cell_type": "code",
   "execution_count": 63,
   "metadata": {},
   "outputs": [
    {
     "name": "stdout",
     "output_type": "stream",
     "text": [
      "[1, 4, 9, 16, 25, 36, 49, 64, 81]\n"
     ]
    },
    {
     "ename": "IndexError",
     "evalue": "list assignment index out of range",
     "output_type": "error",
     "traceback": [
      "\u001b[1;31m---------------------------------------------------------------------------\u001b[0m",
      "\u001b[1;31mIndexError\u001b[0m                                Traceback (most recent call last)",
      "\u001b[1;32m<ipython-input-63-c3bf86035b21>\u001b[0m in \u001b[0;36m<module>\u001b[1;34m\u001b[0m\n\u001b[0;32m      1\u001b[0m \u001b[0mprint\u001b[0m\u001b[1;33m(\u001b[0m\u001b[0msquares\u001b[0m\u001b[1;33m)\u001b[0m\u001b[1;33m\u001b[0m\u001b[1;33m\u001b[0m\u001b[0m\n\u001b[1;32m----> 2\u001b[1;33m \u001b[0msquares\u001b[0m\u001b[1;33m[\u001b[0m\u001b[0mlen\u001b[0m\u001b[1;33m(\u001b[0m\u001b[0msquares\u001b[0m\u001b[1;33m)\u001b[0m\u001b[1;33m]\u001b[0m \u001b[1;33m=\u001b[0m \u001b[1;36m100\u001b[0m\u001b[1;33m\u001b[0m\u001b[1;33m\u001b[0m\u001b[0m\n\u001b[0m",
      "\u001b[1;31mIndexError\u001b[0m: list assignment index out of range"
     ]
    }
   ],
   "source": [
    "print(squares)\n",
    "squares[len(squares)] = 100"
   ]
  },
  {
   "cell_type": "code",
   "execution_count": 64,
   "metadata": {},
   "outputs": [
    {
     "name": "stdout",
     "output_type": "stream",
     "text": [
      "[1, 4, 9, 16, 25, 36, 49, 64, 81, 100]\n"
     ]
    }
   ],
   "source": [
    "# list method - append()\n",
    "\n",
    "squares.append(100)\n",
    "print(squares)"
   ]
  },
  {
   "cell_type": "code",
   "execution_count": 65,
   "metadata": {},
   "outputs": [
    {
     "name": "stdout",
     "output_type": "stream",
     "text": [
      "['shirts', 'hat', 'shoes', 99]\n"
     ]
    }
   ],
   "source": [
    "items = [\"shirts\", \"hat\", \"shoes\"]\n",
    "items.append(99)\n",
    "print(items)"
   ]
  },
  {
   "cell_type": "code",
   "execution_count": 66,
   "metadata": {},
   "outputs": [
    {
     "name": "stdout",
     "output_type": "stream",
     "text": [
      "[['George Washington', 1789, 1797], ['John Adams', 1797, 1801], ['Thomas Jefferson', 1801, 1809]]\n"
     ]
    }
   ],
   "source": [
    "print(presidents)"
   ]
  },
  {
   "cell_type": "code",
   "execution_count": 67,
   "metadata": {},
   "outputs": [
    {
     "name": "stdout",
     "output_type": "stream",
     "text": [
      "['James Monroe', 1817, 1825]\n"
     ]
    }
   ],
   "source": [
    "person = []\n",
    "person.append(\"James Monroe\")\n",
    "person.append(1817)\n",
    "person.append(1825)\n",
    "print(person)"
   ]
  },
  {
   "cell_type": "code",
   "execution_count": null,
   "metadata": {},
   "outputs": [],
   "source": [
    "presidents.append(person)\n",
    "print(presidents)"
   ]
  },
  {
   "cell_type": "code",
   "execution_count": null,
   "metadata": {},
   "outputs": [],
   "source": [
    "person = []\n",
    "person.append(1809)\n",
    "person.append(1817)\n",
    "print(person)"
   ]
  },
  {
   "cell_type": "code",
   "execution_count": null,
   "metadata": {},
   "outputs": [],
   "source": [
    "# list method - insert()\n",
    "\n",
    "person.insert(0, \"James Madison\")\n",
    "print(person)"
   ]
  },
  {
   "cell_type": "code",
   "execution_count": null,
   "metadata": {},
   "outputs": [],
   "source": [
    "print(presidents)"
   ]
  },
  {
   "cell_type": "code",
   "execution_count": null,
   "metadata": {},
   "outputs": [],
   "source": [
    "presidents.insert(3, person)\n",
    "print(presidents)"
   ]
  },
  {
   "cell_type": "code",
   "execution_count": null,
   "metadata": {},
   "outputs": [],
   "source": [
    "# list method - extend()\n",
    "\n",
    "names = ['George Washington', 'John Adams', 'Thomas Jefferson']\n",
    "more_names = ['James Madison', 'James Monroe']\n",
    "\n",
    "org_names = names.copy()\n",
    "\n",
    "names.extend(more_names)\n",
    "\n",
    "print(f\"org_names:  {org_names}\")\n",
    "print(f\"names:      {names}\")\n",
    "print(f\"more_names: {more_names}\")"
   ]
  },
  {
   "cell_type": "code",
   "execution_count": 68,
   "metadata": {},
   "outputs": [
    {
     "ename": "NameError",
     "evalue": "name 'more_names' is not defined",
     "output_type": "error",
     "traceback": [
      "\u001b[1;31m---------------------------------------------------------------------------\u001b[0m",
      "\u001b[1;31mNameError\u001b[0m                                 Traceback (most recent call last)",
      "\u001b[1;32m<ipython-input-68-777a81f08b97>\u001b[0m in \u001b[0;36m<module>\u001b[1;34m\u001b[0m\n\u001b[1;32m----> 1\u001b[1;33m \u001b[0mmore_names\u001b[0m\u001b[1;33m.\u001b[0m\u001b[0mappend\u001b[0m\u001b[1;33m(\u001b[0m\u001b[1;34m\"test\"\u001b[0m\u001b[1;33m)\u001b[0m\u001b[1;33m\u001b[0m\u001b[1;33m\u001b[0m\u001b[0m\n\u001b[0m\u001b[0;32m      2\u001b[0m \u001b[1;33m\u001b[0m\u001b[0m\n\u001b[0;32m      3\u001b[0m \u001b[0mprint\u001b[0m\u001b[1;33m(\u001b[0m\u001b[1;34mf\"org_names:  {org_names}\"\u001b[0m\u001b[1;33m)\u001b[0m\u001b[1;33m\u001b[0m\u001b[1;33m\u001b[0m\u001b[0m\n\u001b[0;32m      4\u001b[0m \u001b[0mprint\u001b[0m\u001b[1;33m(\u001b[0m\u001b[1;34mf\"names:      {names}\"\u001b[0m\u001b[1;33m)\u001b[0m\u001b[1;33m\u001b[0m\u001b[1;33m\u001b[0m\u001b[0m\n\u001b[0;32m      5\u001b[0m \u001b[0mprint\u001b[0m\u001b[1;33m(\u001b[0m\u001b[1;34mf\"more_names: {more_names}\"\u001b[0m\u001b[1;33m)\u001b[0m\u001b[1;33m\u001b[0m\u001b[1;33m\u001b[0m\u001b[0m\n",
      "\u001b[1;31mNameError\u001b[0m: name 'more_names' is not defined"
     ]
    }
   ],
   "source": [
    "more_names.append(\"test\")\n",
    "\n",
    "print(f\"org_names:  {org_names}\")\n",
    "print(f\"names:      {names}\")\n",
    "print(f\"more_names: {more_names}\")"
   ]
  },
  {
   "cell_type": "code",
   "execution_count": 69,
   "metadata": {},
   "outputs": [
    {
     "name": "stdout",
     "output_type": "stream",
     "text": [
      "['March', 'April', 'May', 'June', 'July', 'Aug', 'September', 'October', 'November', 'December', 'January', 'February']\n",
      "['March', 'April', 'May']\n"
     ]
    }
   ],
   "source": [
    "spring = [\"March\", \"April\", \"May\"]\n",
    "summer = [\"June\", \"July\", \"Aug\"]\n",
    "fall = [\"September\", \"October\", \"November\"]\n",
    "winter = [\"December\", \"January\", \"February\"]\n",
    "\n",
    "year = spring.copy()\n",
    "#year = spring\n",
    "year.extend(summer)\n",
    "year.extend(fall)\n",
    "year.extend(winter)\n",
    "\n",
    "print(year)\n",
    "print(spring)"
   ]
  },
  {
   "cell_type": "code",
   "execution_count": 70,
   "metadata": {},
   "outputs": [
    {
     "name": "stdout",
     "output_type": "stream",
     "text": [
      "['March', 'April', 'May'] ['June', 'July', 'Aug'] ['September', 'October', 'November'] ['December', 'January', 'February']\n"
     ]
    }
   ],
   "source": [
    "print(spring, summer, fall, winter)"
   ]
  },
  {
   "cell_type": "code",
   "execution_count": 71,
   "metadata": {},
   "outputs": [
    {
     "name": "stdout",
     "output_type": "stream",
     "text": [
      "['March', 'April', 'May', 'J', 'u', 'n', 'e']\n"
     ]
    }
   ],
   "source": [
    "spr = spring.copy()\n",
    "spr.extend(\"June\")\n",
    "print(spr)     # what do you think?"
   ]
  },
  {
   "cell_type": "code",
   "execution_count": null,
   "metadata": {},
   "outputs": [],
   "source": [
    "spr = spring.copy()\n",
    "spr.extend([\"June\"])\n",
    "print(spr)     "
   ]
  },
  {
   "cell_type": "code",
   "execution_count": null,
   "metadata": {},
   "outputs": [],
   "source": [
    "# list method - index()\n",
    "print(person)\n",
    "print(person.index(\"James Madison\"))"
   ]
  },
  {
   "cell_type": "code",
   "execution_count": null,
   "metadata": {},
   "outputs": [],
   "source": [
    "person.index(1809)"
   ]
  },
  {
   "cell_type": "code",
   "execution_count": null,
   "metadata": {},
   "outputs": [],
   "source": [
    "person.index(1819)"
   ]
  },
  {
   "cell_type": "code",
   "execution_count": null,
   "metadata": {},
   "outputs": [],
   "source": [
    "print(squares)\n",
    "print(squares.index(100))"
   ]
  },
  {
   "cell_type": "code",
   "execution_count": null,
   "metadata": {},
   "outputs": [],
   "source": [
    "print(person)\n",
    "print(presidents.index(person))\n",
    "print(presidents)"
   ]
  },
  {
   "cell_type": "code",
   "execution_count": null,
   "metadata": {},
   "outputs": [],
   "source": [
    "print(presidents.index(['James Madison', 1809, 1817]))"
   ]
  },
  {
   "cell_type": "code",
   "execution_count": null,
   "metadata": {},
   "outputs": [],
   "source": [
    "print(presidents.index(['james madison', 1809, 1817]))"
   ]
  },
  {
   "cell_type": "code",
   "execution_count": null,
   "metadata": {},
   "outputs": [],
   "source": [
    "scores = [100, 99, 89, 99, 78]\n",
    "print(scores.index(99))"
   ]
  },
  {
   "cell_type": "code",
   "execution_count": null,
   "metadata": {},
   "outputs": [],
   "source": [
    "# list method - copy()\n",
    "\n",
    "clothes = ['shirts', 'jacket', 'pants', 'shorts']\n",
    "org_clothes = clothes\n",
    "clothes.append('coat')"
   ]
  },
  {
   "cell_type": "code",
   "execution_count": null,
   "metadata": {},
   "outputs": [],
   "source": [
    "print(clothes)\n",
    "print()\n",
    "print(org_clothes)"
   ]
  },
  {
   "cell_type": "code",
   "execution_count": null,
   "metadata": {},
   "outputs": [],
   "source": [
    "clothes = ['shirts', 'jacket', 'pants', 'shorts']\n",
    "org_clothes = clothes.copy()\n",
    "clothes.append('coat')\n",
    "\n",
    "print(clothes)\n",
    "print()\n",
    "print(org_clothes)"
   ]
  },
  {
   "cell_type": "markdown",
   "metadata": {},
   "source": [
    "### Exercise 2\n",
    "    1. Ask a user for 2 numbers. \n",
    "    2. Generate 5 random numbers between those 2 numbers and save it to a list called nos1. \n",
    "    3. Generate 3 random numbers between those 2 numbers and save it to a list called nos2. \n",
    "    4. Make a copy of nos1 and save it to variable called all_nos.\n",
    "    5. Extend nos2 to the end of nos1.\n",
    "    6. Print original 5 random numbers, 3 random numbers, and all 8 numbers.\n",
    "    "
   ]
  },
  {
   "cell_type": "code",
   "execution_count": 102,
   "metadata": {},
   "outputs": [
    {
     "name": "stdout",
     "output_type": "stream",
     "text": [
      "Enter first number: 1\n",
      "Enter second number: 100\n"
     ]
    }
   ],
   "source": [
    "# ask a user for 2 numbers - do you need to import anything?\n",
    "import random\n",
    "\n",
    "first_number = int(input(\"Enter first number: \"))\n",
    "second_number = int(input(\"Enter second number: \"))\n"
   ]
  },
  {
   "cell_type": "code",
   "execution_count": 103,
   "metadata": {},
   "outputs": [
    {
     "name": "stdout",
     "output_type": "stream",
     "text": [
      "[58, 12, 40, 5, 8]\n"
     ]
    }
   ],
   "source": [
    "# generate 5 random numbers between those 2 numbers and save it to a list called nos1\n",
    "nos1 = []\n",
    "for _ in range(5):\n",
    "    nos1.append(random.randint(first_number, second_number))\n",
    "    \n",
    "print(nos1)\n"
   ]
  },
  {
   "cell_type": "code",
   "execution_count": 104,
   "metadata": {},
   "outputs": [
    {
     "name": "stdout",
     "output_type": "stream",
     "text": [
      "[20, 25, 5]\n"
     ]
    }
   ],
   "source": [
    "# generate 3 random numbers between those 2 numbers and save it to a list called nos2\n",
    "nos2 = []\n",
    "for _ in range(3):\n",
    "    nos2.append(random.randint(first_number, second_number))\n",
    "\n",
    "print(nos2)"
   ]
  },
  {
   "cell_type": "code",
   "execution_count": 105,
   "metadata": {},
   "outputs": [
    {
     "name": "stdout",
     "output_type": "stream",
     "text": [
      "[58, 12, 40, 5, 8]\n"
     ]
    }
   ],
   "source": [
    "# copy nos1 and save to all_nos variable\n",
    "all_nos = nos1.copy()\n",
    "print(all_nos)"
   ]
  },
  {
   "cell_type": "code",
   "execution_count": 106,
   "metadata": {},
   "outputs": [
    {
     "name": "stdout",
     "output_type": "stream",
     "text": [
      "[58, 12, 40, 5, 8, 20, 25, 5]\n"
     ]
    }
   ],
   "source": [
    "# extend nos2 to the end of all_nos\n",
    "all_nos.extend(nos2)\n",
    "print(all_nos)"
   ]
  },
  {
   "cell_type": "code",
   "execution_count": 107,
   "metadata": {},
   "outputs": [
    {
     "name": "stdout",
     "output_type": "stream",
     "text": [
      "5 random numbers: [58, 12, 40, 5, 8]\n",
      "3 random numbers: [20, 25, 5]\n",
      "All random numbers: [58, 12, 40, 5, 8, 20, 25, 5]\n"
     ]
    }
   ],
   "source": [
    "# print original 5 random numbers, 3 random numbers, and all 8 numbers\n",
    "\n",
    "print(f\"5 random numbers: {nos1}\")\n",
    "print(f\"3 random numbers: {nos2}\")\n",
    "print(f\"All random numbers: {all_nos}\")"
   ]
  },
  {
   "cell_type": "markdown",
   "metadata": {},
   "source": [
    "### List Methods\n",
    "remove item in a list"
   ]
  },
  {
   "cell_type": "code",
   "execution_count": 2,
   "metadata": {},
   "outputs": [],
   "source": [
    "# pop()\n",
    "\n",
    "clothes = ['shirts', 'jacket', 'pants', 'shorts', 'coat']\n",
    "org_clothes = clothes.copy()\n",
    "x = clothes"
   ]
  },
  {
   "cell_type": "code",
   "execution_count": 3,
   "metadata": {},
   "outputs": [
    {
     "name": "stdout",
     "output_type": "stream",
     "text": [
      "coat\n",
      "['shirts', 'jacket', 'pants', 'shorts']\n"
     ]
    }
   ],
   "source": [
    "item = clothes.pop()\n",
    "print(item)\n",
    "print(clothes)"
   ]
  },
  {
   "cell_type": "code",
   "execution_count": 4,
   "metadata": {},
   "outputs": [
    {
     "name": "stdout",
     "output_type": "stream",
     "text": [
      "pants\n",
      "['shirts', 'jacket', 'shorts']\n"
     ]
    }
   ],
   "source": [
    "item = clothes.pop(2)\n",
    "print(item)\n",
    "print(clothes)"
   ]
  },
  {
   "cell_type": "code",
   "execution_count": 5,
   "metadata": {},
   "outputs": [
    {
     "name": "stdout",
     "output_type": "stream",
     "text": [
      "['shirts', 'shorts']\n"
     ]
    }
   ],
   "source": [
    "# remove()\n",
    "\n",
    "clothes.remove(\"jacket\")\n",
    "print(clothes)"
   ]
  },
  {
   "cell_type": "code",
   "execution_count": 6,
   "metadata": {},
   "outputs": [
    {
     "name": "stdout",
     "output_type": "stream",
     "text": [
      "['shirts', 'pants', 'shorts', 'pants', 'pants']\n"
     ]
    }
   ],
   "source": [
    "clothes.append(item)\n",
    "clothes.insert(1, item)\n",
    "clothes.append(item)\n",
    "print(clothes)"
   ]
  },
  {
   "cell_type": "code",
   "execution_count": 7,
   "metadata": {},
   "outputs": [
    {
     "name": "stdout",
     "output_type": "stream",
     "text": [
      "['shirts', 'shorts', 'pants', 'pants']\n"
     ]
    }
   ],
   "source": [
    "clothes.remove(\"pants\")\n",
    "print(clothes)"
   ]
  },
  {
   "cell_type": "code",
   "execution_count": 8,
   "metadata": {},
   "outputs": [
    {
     "ename": "ValueError",
     "evalue": "list.remove(x): x not in list",
     "output_type": "error",
     "traceback": [
      "\u001b[1;31m---------------------------------------------------------------------------\u001b[0m",
      "\u001b[1;31mValueError\u001b[0m                                Traceback (most recent call last)",
      "\u001b[1;32m<ipython-input-8-6f241114e340>\u001b[0m in \u001b[0;36m<module>\u001b[1;34m\u001b[0m\n\u001b[1;32m----> 1\u001b[1;33m \u001b[0mclothes\u001b[0m\u001b[1;33m.\u001b[0m\u001b[0mremove\u001b[0m\u001b[1;33m(\u001b[0m\u001b[1;34m\"jacket\"\u001b[0m\u001b[1;33m)\u001b[0m\u001b[1;33m\u001b[0m\u001b[1;33m\u001b[0m\u001b[0m\n\u001b[0m",
      "\u001b[1;31mValueError\u001b[0m: list.remove(x): x not in list"
     ]
    }
   ],
   "source": [
    "clothes.remove(\"jacket\")"
   ]
  },
  {
   "cell_type": "code",
   "execution_count": 9,
   "metadata": {},
   "outputs": [
    {
     "name": "stdout",
     "output_type": "stream",
     "text": [
      "['shirts', 'jacket', 'pants', 'shorts', 'coat']\n",
      "['shirts', 'shorts', 'pants', 'pants']\n",
      "['shirts', 'shorts', 'pants', 'pants']\n"
     ]
    }
   ],
   "source": [
    "print(org_clothes)\n",
    "print(x)\n",
    "print(clothes)"
   ]
  },
  {
   "cell_type": "code",
   "execution_count": 10,
   "metadata": {},
   "outputs": [
    {
     "data": {
      "text/plain": [
       "False"
      ]
     },
     "execution_count": 10,
     "metadata": {},
     "output_type": "execute_result"
    }
   ],
   "source": [
    "\"aple\" in \"apple pie\""
   ]
  },
  {
   "cell_type": "code",
   "execution_count": 11,
   "metadata": {},
   "outputs": [
    {
     "data": {
      "text/plain": [
       "True"
      ]
     },
     "execution_count": 11,
     "metadata": {},
     "output_type": "execute_result"
    }
   ],
   "source": [
    "# count()\n",
    "\n",
    "\"pants\" in clothes"
   ]
  },
  {
   "cell_type": "code",
   "execution_count": 12,
   "metadata": {},
   "outputs": [
    {
     "data": {
      "text/plain": [
       "2"
      ]
     },
     "execution_count": 12,
     "metadata": {},
     "output_type": "execute_result"
    }
   ],
   "source": [
    "clothes.count(\"pants\")"
   ]
  },
  {
   "cell_type": "code",
   "execution_count": 13,
   "metadata": {},
   "outputs": [
    {
     "data": {
      "text/plain": [
       "0"
      ]
     },
     "execution_count": 13,
     "metadata": {},
     "output_type": "execute_result"
    }
   ],
   "source": [
    "clothes.count(\"jacket\")"
   ]
  },
  {
   "cell_type": "code",
   "execution_count": 14,
   "metadata": {},
   "outputs": [
    {
     "name": "stdout",
     "output_type": "stream",
     "text": [
      "names:     ['$', '1', '9', 'Count', 'big bird', 'count', 'elmo']\n",
      "org_names: ['elmo', 'big bird', '1', '9', '$', 'count', 'Count']\n"
     ]
    }
   ],
   "source": [
    "# list method: sort()\n",
    "names = ['elmo', 'big bird', '1', '9', '$', 'count', 'Count']\n",
    "org_names = names.copy()\n",
    "names.sort()\n",
    "\n",
    "print(f\"names:     {names}\")\n",
    "print(f\"org_names: {org_names}\")"
   ]
  },
  {
   "cell_type": "code",
   "execution_count": 15,
   "metadata": {},
   "outputs": [
    {
     "name": "stdout",
     "output_type": "stream",
     "text": [
      "names:     ['elmo', 'count', 'big bird', 'Count', '9', '1', '$']\n",
      "org_names: ['elmo', 'big bird', '1', '9', '$', 'count', 'Count']\n"
     ]
    }
   ],
   "source": [
    "names = org_names.copy()\n",
    "names.sort(reverse=True)\n",
    "\n",
    "print(f\"names:     {names}\")\n",
    "print(f\"org_names: {org_names}\")"
   ]
  },
  {
   "cell_type": "code",
   "execution_count": 16,
   "metadata": {},
   "outputs": [
    {
     "name": "stdout",
     "output_type": "stream",
     "text": [
      "Before: ['elmo', 'big bird', '1', '9', '$', 'count', 'Count']\n",
      "After:  ['$', '1', '9', 'Count', 'big bird', 'count', 'elmo']\n"
     ]
    }
   ],
   "source": [
    "# sorted() built-in function\n",
    "\n",
    "names = org_names.copy()\n",
    "print(f\"Before: {names}\")\n",
    "ordered = sorted(names)\n",
    "print(f\"After:  {ordered}\")"
   ]
  },
  {
   "cell_type": "code",
   "execution_count": 17,
   "metadata": {},
   "outputs": [
    {
     "name": "stdout",
     "output_type": "stream",
     "text": [
      "Before: ['George Washington', 1789, 1797]\n"
     ]
    },
    {
     "ename": "TypeError",
     "evalue": "'<' not supported between instances of 'int' and 'str'",
     "output_type": "error",
     "traceback": [
      "\u001b[1;31m---------------------------------------------------------------------------\u001b[0m",
      "\u001b[1;31mTypeError\u001b[0m                                 Traceback (most recent call last)",
      "\u001b[1;32m<ipython-input-17-164e70f31db9>\u001b[0m in \u001b[0;36m<module>\u001b[1;34m\u001b[0m\n\u001b[0;32m      1\u001b[0m \u001b[0mpresident1\u001b[0m \u001b[1;33m=\u001b[0m \u001b[1;33m[\u001b[0m\u001b[1;34m'George Washington'\u001b[0m\u001b[1;33m,\u001b[0m \u001b[1;36m1789\u001b[0m\u001b[1;33m,\u001b[0m \u001b[1;36m1797\u001b[0m\u001b[1;33m]\u001b[0m\u001b[1;33m\u001b[0m\u001b[1;33m\u001b[0m\u001b[0m\n\u001b[0;32m      2\u001b[0m \u001b[0mprint\u001b[0m\u001b[1;33m(\u001b[0m\u001b[1;34mf\"Before: {president1}\"\u001b[0m\u001b[1;33m)\u001b[0m\u001b[1;33m\u001b[0m\u001b[1;33m\u001b[0m\u001b[0m\n\u001b[1;32m----> 3\u001b[1;33m \u001b[0mordered\u001b[0m \u001b[1;33m=\u001b[0m \u001b[0msorted\u001b[0m\u001b[1;33m(\u001b[0m\u001b[0mpresident1\u001b[0m\u001b[1;33m)\u001b[0m\u001b[1;33m\u001b[0m\u001b[1;33m\u001b[0m\u001b[0m\n\u001b[0m\u001b[0;32m      4\u001b[0m \u001b[0mprint\u001b[0m\u001b[1;33m(\u001b[0m\u001b[1;34mf\"After:  {ordered}\"\u001b[0m\u001b[1;33m)\u001b[0m\u001b[1;33m\u001b[0m\u001b[1;33m\u001b[0m\u001b[0m\n",
      "\u001b[1;31mTypeError\u001b[0m: '<' not supported between instances of 'int' and 'str'"
     ]
    }
   ],
   "source": [
    "president1 = ['George Washington', 1789, 1797]\n",
    "print(f\"Before: {president1}\")\n",
    "ordered = sorted(president1)\n",
    "print(f\"After:  {ordered}\")"
   ]
  },
  {
   "cell_type": "code",
   "execution_count": 20,
   "metadata": {},
   "outputs": [
    {
     "name": "stdout",
     "output_type": "stream",
     "text": [
      "Before: [['George Washington', 1789, 1797], ['Thomas Jefferson', 1801, 1809], ['John Adams', 1797, 1801]]\n",
      "After:  [['George Washington', 1789, 1797], ['John Adams', 1797, 1801], ['Thomas Jefferson', 1801, 1809]]\n"
     ]
    }
   ],
   "source": [
    "presidents = [['George Washington', 1789, 1797], \n",
    "              ['Thomas Jefferson', 1801, 1809], \n",
    "              ['John Adams', 1797, 1801]]\n",
    "\n",
    "print(f\"Before: {presidents}\")\n",
    "ordered = sorted(presidents)\n",
    "print(f\"After:  {ordered}\")\n"
   ]
  },
  {
   "cell_type": "code",
   "execution_count": 22,
   "metadata": {},
   "outputs": [],
   "source": [
    "l1 = [ 1, 11, 111]\n",
    "l2 = [1, 12]\n",
    "l3 = [1, 12, '124']\n",
    "\n",
    "test = [l2, l1, l3]\n",
    "org_test = test.copy()"
   ]
  },
  {
   "cell_type": "code",
   "execution_count": null,
   "metadata": {},
   "outputs": [],
   "source": []
  },
  {
   "cell_type": "code",
   "execution_count": 23,
   "metadata": {},
   "outputs": [
    {
     "name": "stdout",
     "output_type": "stream",
     "text": [
      "Before: [[1, 12], [1, 11, 111], [1, 12, '124']]\n",
      "After:  [[1, 11, 111], [1, 12], [1, 12, '124']]\n"
     ]
    }
   ],
   "source": [
    "print(f\"Before: {test}\")\n",
    "ordered = sorted(test)\n",
    "print(f\"After:  {ordered}\")"
   ]
  },
  {
   "cell_type": "code",
   "execution_count": 24,
   "metadata": {},
   "outputs": [
    {
     "name": "stdout",
     "output_type": "stream",
     "text": [
      "10 20\n"
     ]
    }
   ],
   "source": [
    "def replace(arg) :\n",
    "    arg = arg * 2\n",
    "    return arg\n",
    "\n",
    "a = 10\n",
    "b = replace(a)\n",
    "print(a, b)"
   ]
  },
  {
   "cell_type": "code",
   "execution_count": 25,
   "metadata": {},
   "outputs": [
    {
     "name": "stdout",
     "output_type": "stream",
     "text": [
      "[1, 2, 3]\n",
      "[1, '*', 3]\n"
     ]
    }
   ],
   "source": [
    "# list is a mutable data type\n",
    "\n",
    "def replace(sample, index) :\n",
    "    sample[index] = '*'\n",
    "    \n",
    "orig = [1, 2, 3]\n",
    "print(orig)\n",
    "replace(orig, 1)\n",
    "print(orig)\n",
    "    "
   ]
  },
  {
   "cell_type": "code",
   "execution_count": 26,
   "metadata": {},
   "outputs": [
    {
     "name": "stdout",
     "output_type": "stream",
     "text": [
      "entered xfer():arg1=5, arg2=[1, 2, 3]\n",
      "exiting xfer():arg1=[1, 2, 3], arg2=5\n",
      "5\n",
      "[1, 2, 3]\n"
     ]
    }
   ],
   "source": [
    "def xfer(arg1, arg2) :\n",
    "    print(f\"entered xfer():arg1={arg1}, arg2={arg2}\")\n",
    "    temp = arg1\n",
    "    arg1 = arg2\n",
    "    arg2 = temp\n",
    "    print(f\"exiting xfer():arg1={arg1}, arg2={arg2}\")\n",
    "    \n",
    "x = 5\n",
    "y = [1, 2, 3]\n",
    "xfer(x, y)\n",
    "\n",
    "print(x, y, sep=\"\\n\")"
   ]
  },
  {
   "cell_type": "code",
   "execution_count": 27,
   "metadata": {},
   "outputs": [
    {
     "name": "stdout",
     "output_type": "stream",
     "text": [
      "entered xfer2():arg1=5, arg2=[1, 2, 3]\n",
      "exiting xfer2():arg1=10, arg2=[10, 2, 3]\n",
      "\n",
      "x=5 y=[10, 2, 3]\n"
     ]
    }
   ],
   "source": [
    "# data types (integer, float, string) are not mutable but list is \n",
    "\n",
    "\n",
    "def xfer2(arg1, arg2) :\n",
    "    print(f\"entered xfer2():arg1={arg1}, arg2={arg2}\")\n",
    "    arg1 *= 2\n",
    "    arg2[0] = arg1\n",
    "    print(f\"exiting xfer2():arg1={arg1}, arg2={arg2}\")\n",
    "    \n",
    "    \n",
    "x = 5\n",
    "y = [1, 2, 3]\n",
    "xfer2(x, y)\n",
    "\n",
    "print(f\"\\nx={x} y={y}\")"
   ]
  },
  {
   "cell_type": "markdown",
   "metadata": {},
   "source": [
    "### Exercise 3\n",
    "Get 7 book tittles from a user and save it in a list.\n",
    "Then, remove the title in the middle of the list after sorting them alphabetically. \n",
    "Display the original tittles, sorted tittles, and titles after removing one."
   ]
  },
  {
   "cell_type": "code",
   "execution_count": 60,
   "metadata": {},
   "outputs": [
    {
     "name": "stdout",
     "output_type": "stream",
     "text": [
      "Please Enter 7 book titles\n",
      "\n",
      "Enter a title: The Four Winds\n",
      "Enter a title: The Lost Apothecary\n",
      "Enter a title: The Push\n",
      "Enter a title: Klara And The Sun\n",
      "Enter a title: The Paris Library\n",
      "Enter a title: Malibu Rising\n",
      "Enter a title: The Rose Code\n",
      "['The Four Winds', 'The Lost Apothecary', 'The Push', 'Klara And The Sun', 'The Paris Library', 'Malibu Rising', 'The Rose Code']\n"
     ]
    }
   ],
   "source": [
    "titles_list = []\n",
    "print(\"Please Enter 7 book titles\\n\")\n",
    "for i in range(7):\n",
    "    title = input(\"Enter a title: \")\n",
    "    titles_list.append(title)\n"
   ]
  },
  {
   "cell_type": "code",
   "execution_count": 66,
   "metadata": {},
   "outputs": [
    {
     "name": "stdout",
     "output_type": "stream",
     "text": [
      "Original Title List: \n",
      "The Four Winds\n",
      "The Lost Apothecary\n",
      "The Push\n",
      "Klara And The Sun\n",
      "The Paris Library\n",
      "Malibu Rising\n",
      "The Rose Code\n",
      "\n",
      "Sorted Title List: \n",
      "Klara And The Sun\n",
      "Malibu Rising\n",
      "The Four Winds\n",
      "The Lost Apothecary\n",
      "The Paris Library\n",
      "The Push\n",
      "The Rose Code\n",
      "\n",
      "Title List with Middle Removed: \n",
      "Klara And The Sun\n",
      "Malibu Rising\n",
      "The Four Winds\n",
      "The Paris Library\n",
      "The Push\n",
      "The Rose Code\n"
     ]
    }
   ],
   "source": [
    "\n",
    "sorted_titles = titles_list.copy()\n",
    "\n",
    "sorted_titles = sorted(sorted_titles)\n",
    "\n",
    "removed_middle_titles = sorted_titles.copy()\n",
    "\n",
    "removed_middle_titles.pop(len(removed_middle_titles) // 2)\n",
    "\n",
    "\n",
    "print(\"Original Title List: \")\n",
    "for i in titles_list:\n",
    "    print(i)\n",
    "    \n",
    "print(\"\\nSorted Title List: \")\n",
    "for i in sorted_titles:\n",
    "    print(i)\n",
    "    \n",
    "print(\"\\nTitle List with Middle Removed: \")\n",
    "for i in removed_middle_titles:\n",
    "    print(i)\n",
    "    \n"
   ]
  },
  {
   "cell_type": "markdown",
   "metadata": {},
   "source": [
    "### Tuple"
   ]
  },
  {
   "cell_type": "code",
   "execution_count": 28,
   "metadata": {},
   "outputs": [
    {
     "name": "stdout",
     "output_type": "stream",
     "text": [
      "Th\n"
     ]
    }
   ],
   "source": [
    "week = ('M', 'T', 'W', 'Th', 'F', 'Sa', 'Su')\n",
    "print(week[3])"
   ]
  },
  {
   "cell_type": "code",
   "execution_count": 29,
   "metadata": {},
   "outputs": [
    {
     "name": "stdout",
     "output_type": "stream",
     "text": [
      "Sa\n"
     ]
    }
   ],
   "source": [
    "print(week[-2])"
   ]
  },
  {
   "cell_type": "code",
   "execution_count": 30,
   "metadata": {},
   "outputs": [
    {
     "name": "stdout",
     "output_type": "stream",
     "text": [
      "('M', 'W', 'F', 'Su')\n"
     ]
    }
   ],
   "source": [
    "print(week[::2])"
   ]
  },
  {
   "cell_type": "code",
   "execution_count": 31,
   "metadata": {},
   "outputs": [
    {
     "name": "stdout",
     "output_type": "stream",
     "text": [
      "foodie\n"
     ]
    },
    {
     "ename": "IndexError",
     "evalue": "tuple index out of range",
     "output_type": "error",
     "traceback": [
      "\u001b[1;31m---------------------------------------------------------------------------\u001b[0m",
      "\u001b[1;31mIndexError\u001b[0m                                Traceback (most recent call last)",
      "\u001b[1;32m<ipython-input-31-d9bb6b26059d>\u001b[0m in \u001b[0;36m<module>\u001b[1;34m\u001b[0m\n\u001b[0;32m      1\u001b[0m \u001b[0mhobbies\u001b[0m \u001b[1;33m=\u001b[0m \u001b[1;33m(\u001b[0m\u001b[1;34m\"hiking\"\u001b[0m\u001b[1;33m,\u001b[0m \u001b[1;34m\"tennis\"\u001b[0m\u001b[1;33m,\u001b[0m \u001b[1;34m\"foodie\"\u001b[0m\u001b[1;33m)\u001b[0m\u001b[1;33m\u001b[0m\u001b[1;33m\u001b[0m\u001b[0m\n\u001b[0;32m      2\u001b[0m \u001b[0mprint\u001b[0m\u001b[1;33m(\u001b[0m\u001b[0mhobbies\u001b[0m\u001b[1;33m[\u001b[0m\u001b[1;36m2\u001b[0m\u001b[1;33m]\u001b[0m\u001b[1;33m)\u001b[0m\u001b[1;33m\u001b[0m\u001b[1;33m\u001b[0m\u001b[0m\n\u001b[1;32m----> 3\u001b[1;33m \u001b[0mprint\u001b[0m\u001b[1;33m(\u001b[0m\u001b[0mhobbies\u001b[0m\u001b[1;33m[\u001b[0m\u001b[1;36m5\u001b[0m\u001b[1;33m]\u001b[0m\u001b[1;33m)\u001b[0m\u001b[1;33m\u001b[0m\u001b[1;33m\u001b[0m\u001b[0m\n\u001b[0m",
      "\u001b[1;31mIndexError\u001b[0m: tuple index out of range"
     ]
    }
   ],
   "source": [
    "hobbies = (\"hiking\", \"tennis\", \"foodie\")\n",
    "print(hobbies[2])\n",
    "print(hobbies[5])"
   ]
  },
  {
   "cell_type": "code",
   "execution_count": 32,
   "metadata": {},
   "outputs": [
    {
     "ename": "TypeError",
     "evalue": "'tuple' object does not support item assignment",
     "output_type": "error",
     "traceback": [
      "\u001b[1;31m---------------------------------------------------------------------------\u001b[0m",
      "\u001b[1;31mTypeError\u001b[0m                                 Traceback (most recent call last)",
      "\u001b[1;32m<ipython-input-32-afd27e0b621a>\u001b[0m in \u001b[0;36m<module>\u001b[1;34m\u001b[0m\n\u001b[1;32m----> 1\u001b[1;33m \u001b[0mhobbies\u001b[0m\u001b[1;33m[\u001b[0m\u001b[1;36m2\u001b[0m\u001b[1;33m]\u001b[0m \u001b[1;33m=\u001b[0m \u001b[1;34m\"binge watching\"\u001b[0m\u001b[1;33m\u001b[0m\u001b[1;33m\u001b[0m\u001b[0m\n\u001b[0m\u001b[0;32m      2\u001b[0m \u001b[0mprint\u001b[0m\u001b[1;33m(\u001b[0m\u001b[0mhobbies\u001b[0m\u001b[1;33m)\u001b[0m\u001b[1;33m\u001b[0m\u001b[1;33m\u001b[0m\u001b[0m\n",
      "\u001b[1;31mTypeError\u001b[0m: 'tuple' object does not support item assignment"
     ]
    }
   ],
   "source": [
    "hobbies[2] = \"binge watching\"\n",
    "print(hobbies)"
   ]
  },
  {
   "cell_type": "code",
   "execution_count": 33,
   "metadata": {},
   "outputs": [
    {
     "name": "stdout",
     "output_type": "stream",
     "text": [
      "<class 'tuple'>\n",
      "0\n"
     ]
    }
   ],
   "source": [
    "# empty tuple\n",
    "\n",
    "items = ()\n",
    "print(type(items))\n",
    "print(len(items))"
   ]
  },
  {
   "cell_type": "code",
   "execution_count": 34,
   "metadata": {},
   "outputs": [
    {
     "name": "stdout",
     "output_type": "stream",
     "text": [
      "<class 'str'>\n",
      "3\n"
     ]
    }
   ],
   "source": [
    "items2 = (\"one\")\n",
    "print(type(items2))\n",
    "print(len(items2))"
   ]
  },
  {
   "cell_type": "code",
   "execution_count": 36,
   "metadata": {},
   "outputs": [
    {
     "name": "stdout",
     "output_type": "stream",
     "text": [
      "<class 'tuple'>\n",
      "1\n"
     ]
    }
   ],
   "source": [
    "# tuple with one item\n",
    "\n",
    "items3 = (\"one\",)\n",
    "print(type(items3))\n",
    "print(len(items3))\n"
   ]
  },
  {
   "cell_type": "code",
   "execution_count": 35,
   "metadata": {},
   "outputs": [
    {
     "name": "stdout",
     "output_type": "stream",
     "text": [
      "<class 'tuple'>\n",
      "2\n"
     ]
    }
   ],
   "source": [
    "# tuple with multiple items\n",
    "\n",
    "items4 = (\"one\", \"two\",)\n",
    "print(type(items4))\n",
    "print(len(items4))\n"
   ]
  },
  {
   "cell_type": "code",
   "execution_count": 37,
   "metadata": {},
   "outputs": [
    {
     "name": "stdout",
     "output_type": "stream",
     "text": [
      "(99, 87, 79, 88, 88, 100)\n",
      "('Rachel', 'Monica', 'Phoebe', 'Joey', 'Chandler', 'Ross')\n",
      "('jacket', 'M', 20, 9.99)\n"
     ]
    }
   ],
   "source": [
    "scores = (99, 87, 79, 88, 88, 100)\n",
    "names = (\"Rachel\", \"Monica\", \"Phoebe\", \"Joey\", \"Chandler\", \"Ross\")\n",
    "sample = (\"jacket\", \"M\", 20, 9.99)\n",
    "\n",
    "print(scores)\n",
    "print(names)\n",
    "print(sample)"
   ]
  },
  {
   "cell_type": "code",
   "execution_count": 42,
   "metadata": {},
   "outputs": [
    {
     "name": "stdout",
     "output_type": "stream",
     "text": [
      "('3-22', '4-30', '5-11', '12-18')\n",
      "<class 'tuple'>\n",
      "4\n"
     ]
    }
   ],
   "source": [
    "demo = tuple(('3-22', '4-30', '5-11', '12-18'))\n",
    "print(demo)\n",
    "print(type(demo))\n",
    "print(len(demo))"
   ]
  },
  {
   "cell_type": "code",
   "execution_count": 44,
   "metadata": {},
   "outputs": [
    {
     "name": "stdout",
     "output_type": "stream",
     "text": [
      "['3-22', '4-30', '5-11', '12-18']\n",
      "<class 'list'>\n",
      "4\n"
     ]
    }
   ],
   "source": [
    "demo2 = list(('3-22', '4-30', '5-11', '12-18'))\n",
    "print(demo2)\n",
    "print(type(demo2))\n",
    "print(len(demo2))"
   ]
  },
  {
   "cell_type": "code",
   "execution_count": 45,
   "metadata": {},
   "outputs": [
    {
     "name": "stdout",
     "output_type": "stream",
     "text": [
      "('hiking', 'tennis', 'foodie')\n",
      "['hiking', 'tennis', 'foodie']\n"
     ]
    }
   ],
   "source": [
    "# list() & tuple() built-in function\n",
    "\n",
    "hobbies_list = list(hobbies)\n",
    "print(hobbies)\n",
    "print(hobbies_list)"
   ]
  },
  {
   "cell_type": "code",
   "execution_count": 46,
   "metadata": {},
   "outputs": [
    {
     "name": "stdout",
     "output_type": "stream",
     "text": [
      "['hiking', 'tennis', 'binge watching']\n"
     ]
    }
   ],
   "source": [
    "hobbies_list[2] = \"binge watching\"\n",
    "print(hobbies_list)"
   ]
  },
  {
   "cell_type": "code",
   "execution_count": 47,
   "metadata": {},
   "outputs": [
    {
     "name": "stdout",
     "output_type": "stream",
     "text": [
      "['hiking', 'tennis', 'binge watching']\n",
      "('hiking', 'tennis', 'binge watching')\n"
     ]
    }
   ],
   "source": [
    "hobbies_tuple = tuple(hobbies_list)\n",
    "print(hobbies_list)\n",
    "print(hobbies_tuple)"
   ]
  },
  {
   "cell_type": "code",
   "execution_count": 48,
   "metadata": {},
   "outputs": [
    {
     "data": {
      "text/plain": [
       "range(1, 5)"
      ]
     },
     "execution_count": 48,
     "metadata": {},
     "output_type": "execute_result"
    }
   ],
   "source": [
    "range(1, 5)"
   ]
  },
  {
   "cell_type": "markdown",
   "metadata": {},
   "source": [
    "### Repetition Statement - Loop"
   ]
  },
  {
   "cell_type": "code",
   "execution_count": 49,
   "metadata": {},
   "outputs": [
    {
     "name": "stdout",
     "output_type": "stream",
     "text": [
      "1\n",
      "2\n",
      "3\n",
      "4\n",
      "5\n"
     ]
    }
   ],
   "source": [
    "# counter loop\n",
    "\n",
    "for item in [1, 2, 3, 4, 5] :\n",
    "    print(item)"
   ]
  },
  {
   "cell_type": "code",
   "execution_count": 50,
   "metadata": {},
   "outputs": [
    {
     "name": "stdout",
     "output_type": "stream",
     "text": [
      "['shirts', 'shorts', 'pants', 'pants']\n",
      "I have shirts\n",
      "I have shorts\n",
      "I have pants\n",
      "I have pants\n",
      "Done!\n"
     ]
    }
   ],
   "source": [
    "print(clothes)\n",
    "for item in clothes :\n",
    "    print(f\"I have {item}\")\n",
    "\n",
    "print(\"Done!\")    "
   ]
  },
  {
   "cell_type": "code",
   "execution_count": 51,
   "metadata": {},
   "outputs": [
    {
     "name": "stdout",
     "output_type": "stream",
     "text": [
      "1\n",
      "2\n",
      "3\n",
      "4\n",
      "5\n",
      "Done!\n"
     ]
    }
   ],
   "source": [
    "for item in (1, 2, 3, 4, 5) :\n",
    "    print(item)\n",
    "    \n",
    "print(\"Done!\") "
   ]
  },
  {
   "cell_type": "code",
   "execution_count": 52,
   "metadata": {},
   "outputs": [
    {
     "name": "stdout",
     "output_type": "stream",
     "text": [
      "a\n",
      "p\n",
      "p\n",
      "l\n",
      "e\n",
      "Done!\n",
      "e\n"
     ]
    }
   ],
   "source": [
    "for item in \"apple\" :\n",
    "    print(item)\n",
    "    \n",
    "print(\"Done!\") \n",
    "print(item)"
   ]
  },
  {
   "cell_type": "code",
   "execution_count": 53,
   "metadata": {},
   "outputs": [
    {
     "name": "stdout",
     "output_type": "stream",
     "text": [
      "a\n",
      "p\n"
     ]
    }
   ],
   "source": [
    "item = 'a'\n",
    "print(item)\n",
    "item = 'p'\n",
    "print(item)"
   ]
  },
  {
   "cell_type": "code",
   "execution_count": 54,
   "metadata": {},
   "outputs": [
    {
     "name": "stdout",
     "output_type": "stream",
     "text": [
      "1\n",
      "2\n",
      "3\n",
      "4\n",
      "5\n",
      "6\n",
      "7\n",
      "8\n",
      "9\n",
      "10\n"
     ]
    }
   ],
   "source": [
    "# range() built-in function\n",
    "\n",
    "for item in range(1, 11) :\n",
    "    print(item)"
   ]
  },
  {
   "cell_type": "code",
   "execution_count": 55,
   "metadata": {},
   "outputs": [
    {
     "name": "stdout",
     "output_type": "stream",
     "text": [
      "1\n",
      "3\n",
      "5\n",
      "7\n",
      "9\n"
     ]
    }
   ],
   "source": [
    "\n",
    "for item in range(1, 11, 2) :\n",
    "    print(item)"
   ]
  },
  {
   "cell_type": "code",
   "execution_count": 56,
   "metadata": {},
   "outputs": [
    {
     "name": "stdout",
     "output_type": "stream",
     "text": [
      "\n",
      "There are 7 dwarves and Snow White\n",
      "Happy\n",
      "Grumpy\n",
      "Sleepy\n",
      "Bashful\n",
      "Sneezy\n",
      "Doc\n",
      "Dopey\n"
     ]
    }
   ],
   "source": [
    "dwarves = [\"Happy\", \"Grumpy\", \"Sleepy\", \"Bashful\", \"Sneezy\", \"Doc\", \"Dopey\"]\n",
    "\n",
    "print(f\"\\nThere are {len(dwarves)} dwarves and Snow White\")\n",
    "for dwarf in dwarves : \n",
    "    print(dwarf)\n",
    "    "
   ]
  },
  {
   "cell_type": "markdown",
   "metadata": {},
   "source": [
    "### Exercise 4\n",
    "If you save $1,000 every year with 1% annual interest, how much would you save in 5 years?\n",
    "\n",
    "Fix code in below cell and show it works."
   ]
  },
  {
   "cell_type": "code",
   "execution_count": 76,
   "metadata": {},
   "outputs": [
    {
     "name": "stdout",
     "output_type": "stream",
     "text": [
      "$5,152.02\n"
     ]
    }
   ],
   "source": [
    "# original\n",
    "\n",
    "rate = 1.01\n",
    "savings = 0\n",
    "\n",
    "for i in range(1, 6) :\n",
    "    savings = savings + 1000 \n",
    "    savings = savings * rate\n",
    "\n",
    "print(\"${0:,.2f}\".format(savings))    "
   ]
  },
  {
   "cell_type": "code",
   "execution_count": 79,
   "metadata": {},
   "outputs": [
    {
     "name": "stdout",
     "output_type": "stream",
     "text": [
      "$5,152.02\n"
     ]
    }
   ],
   "source": [
    "# original\n",
    "\n",
    "rate = 1/100  # 0.01\n",
    "savings = 0\n",
    "total = 0\n",
    "\n",
    "for i in range(1, 6) :\n",
    "    savings = total + 1000 \n",
    "    total = (savings * rate)  + savings\n",
    "\n",
    "print(f\"${total:,.2f}\")    "
   ]
  },
  {
   "cell_type": "markdown",
   "metadata": {},
   "source": [
    "1010\n",
    "1010 + 1000 + (1010+1000)* 0.01"
   ]
  },
  {
   "cell_type": "code",
   "execution_count": null,
   "metadata": {},
   "outputs": [],
   "source": []
  }
 ],
 "metadata": {
  "kernelspec": {
   "display_name": "Python 3",
   "language": "python",
   "name": "python3"
  },
  "language_info": {
   "codemirror_mode": {
    "name": "ipython",
    "version": 3
   },
   "file_extension": ".py",
   "mimetype": "text/x-python",
   "name": "python",
   "nbconvert_exporter": "python",
   "pygments_lexer": "ipython3",
   "version": "3.8.8"
  }
 },
 "nbformat": 4,
 "nbformat_minor": 2
}
